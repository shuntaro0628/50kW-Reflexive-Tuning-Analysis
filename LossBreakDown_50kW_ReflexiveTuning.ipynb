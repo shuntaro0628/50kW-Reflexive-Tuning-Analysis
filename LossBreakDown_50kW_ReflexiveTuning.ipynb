{
 "cells": [
  {
   "cell_type": "markdown",
   "metadata": {
    "id": "jcUZVuJLFiSO"
   },
   "source": [
    "# Symbolic analysis\n",
    "\n",
    "### Purpose:\n",
    "Pi loss breakdown chart for Open journal of PE"
   ]
  },
  {
   "cell_type": "markdown",
   "metadata": {},
   "source": [
    "# Cell 1: Install packages and configure matplotlib"
   ]
  },
  {
   "cell_type": "code",
   "execution_count": 1,
   "metadata": {
    "id": "62PgBC0P6tMT"
   },
   "outputs": [
    {
     "name": "stdout",
     "output_type": "stream",
     "text": [
      "Installing pandas...\n",
      "Defaulting to user installation because normal site-packages is not writeable\n",
      "Requirement already satisfied: pandas in /Users/shuntaroinoue/Library/Python/3.9/lib/python/site-packages (2.3.0)\n",
      "Requirement already satisfied: python-dateutil>=2.8.2 in /Users/shuntaroinoue/Library/Python/3.9/lib/python/site-packages (from pandas) (2.9.0.post0)\n",
      "Requirement already satisfied: tzdata>=2022.7 in /Users/shuntaroinoue/Library/Python/3.9/lib/python/site-packages (from pandas) (2025.2)\n",
      "Requirement already satisfied: numpy>=1.22.4 in /Users/shuntaroinoue/Library/Python/3.9/lib/python/site-packages (from pandas) (2.0.2)\n",
      "Requirement already satisfied: pytz>=2020.1 in /Users/shuntaroinoue/Library/Python/3.9/lib/python/site-packages (from pandas) (2025.2)\n",
      "Requirement already satisfied: six>=1.5 in /Library/Developer/CommandLineTools/Library/Frameworks/Python3.framework/Versions/3.9/lib/python3.9/site-packages (from python-dateutil>=2.8.2->pandas) (1.15.0)\n"
     ]
    },
    {
     "name": "stderr",
     "output_type": "stream",
     "text": [
      "WARNING: You are using pip version 21.2.4; however, version 25.1.1 is available.\n",
      "You should consider upgrading via the '/Library/Developer/CommandLineTools/usr/bin/python3 -m pip install --upgrade pip' command.\n"
     ]
    },
    {
     "name": "stdout",
     "output_type": "stream",
     "text": [
      "Installing matplotlib...\n",
      "Defaulting to user installation because normal site-packages is not writeable\n",
      "Requirement already satisfied: matplotlib in /Users/shuntaroinoue/Library/Python/3.9/lib/python/site-packages (3.9.4)\n",
      "Requirement already satisfied: fonttools>=4.22.0 in /Users/shuntaroinoue/Library/Python/3.9/lib/python/site-packages (from matplotlib) (4.58.4)\n",
      "Requirement already satisfied: kiwisolver>=1.3.1 in /Users/shuntaroinoue/Library/Python/3.9/lib/python/site-packages (from matplotlib) (1.4.7)\n",
      "Requirement already satisfied: pyparsing>=2.3.1 in /Users/shuntaroinoue/Library/Python/3.9/lib/python/site-packages (from matplotlib) (3.2.3)\n",
      "Requirement already satisfied: importlib-resources>=3.2.0 in /Users/shuntaroinoue/Library/Python/3.9/lib/python/site-packages (from matplotlib) (6.5.2)\n",
      "Requirement already satisfied: python-dateutil>=2.7 in /Users/shuntaroinoue/Library/Python/3.9/lib/python/site-packages (from matplotlib) (2.9.0.post0)\n",
      "Requirement already satisfied: cycler>=0.10 in /Users/shuntaroinoue/Library/Python/3.9/lib/python/site-packages (from matplotlib) (0.12.1)\n",
      "Requirement already satisfied: pillow>=8 in /Users/shuntaroinoue/Library/Python/3.9/lib/python/site-packages (from matplotlib) (11.2.1)\n",
      "Requirement already satisfied: packaging>=20.0 in /Users/shuntaroinoue/Library/Python/3.9/lib/python/site-packages (from matplotlib) (25.0)\n",
      "Requirement already satisfied: contourpy>=1.0.1 in /Users/shuntaroinoue/Library/Python/3.9/lib/python/site-packages (from matplotlib) (1.3.0)\n",
      "Requirement already satisfied: numpy>=1.23 in /Users/shuntaroinoue/Library/Python/3.9/lib/python/site-packages (from matplotlib) (2.0.2)\n",
      "Requirement already satisfied: zipp>=3.1.0 in /Users/shuntaroinoue/Library/Python/3.9/lib/python/site-packages (from importlib-resources>=3.2.0->matplotlib) (3.23.0)\n",
      "Requirement already satisfied: six>=1.5 in /Library/Developer/CommandLineTools/Library/Frameworks/Python3.framework/Versions/3.9/lib/python3.9/site-packages (from python-dateutil>=2.7->matplotlib) (1.15.0)\n"
     ]
    },
    {
     "name": "stderr",
     "output_type": "stream",
     "text": [
      "WARNING: You are using pip version 21.2.4; however, version 25.1.1 is available.\n",
      "You should consider upgrading via the '/Library/Developer/CommandLineTools/usr/bin/python3 -m pip install --upgrade pip' command.\n"
     ]
    },
    {
     "name": "stdout",
     "output_type": "stream",
     "text": [
      "Installing numpy...\n",
      "Defaulting to user installation because normal site-packages is not writeable\n",
      "Requirement already satisfied: numpy in /Users/shuntaroinoue/Library/Python/3.9/lib/python/site-packages (2.0.2)\n"
     ]
    },
    {
     "name": "stderr",
     "output_type": "stream",
     "text": [
      "WARNING: You are using pip version 21.2.4; however, version 25.1.1 is available.\n",
      "You should consider upgrading via the '/Library/Developer/CommandLineTools/usr/bin/python3 -m pip install --upgrade pip' command.\n"
     ]
    },
    {
     "name": "stdout",
     "output_type": "stream",
     "text": [
      "Installing scipy...\n",
      "Defaulting to user installation because normal site-packages is not writeable\n",
      "Requirement already satisfied: scipy in /Users/shuntaroinoue/Library/Python/3.9/lib/python/site-packages (1.13.1)\n",
      "Requirement already satisfied: numpy<2.3,>=1.22.4 in /Users/shuntaroinoue/Library/Python/3.9/lib/python/site-packages (from scipy) (2.0.2)\n"
     ]
    },
    {
     "name": "stderr",
     "output_type": "stream",
     "text": [
      "WARNING: You are using pip version 21.2.4; however, version 25.1.1 is available.\n",
      "You should consider upgrading via the '/Library/Developer/CommandLineTools/usr/bin/python3 -m pip install --upgrade pip' command.\n"
     ]
    },
    {
     "name": "stdout",
     "output_type": "stream",
     "text": [
      "Installing openpyxl...\n",
      "Defaulting to user installation because normal site-packages is not writeable\n",
      "Requirement already satisfied: openpyxl in /Users/shuntaroinoue/Library/Python/3.9/lib/python/site-packages (3.1.5)\n",
      "Requirement already satisfied: et-xmlfile in /Users/shuntaroinoue/Library/Python/3.9/lib/python/site-packages (from openpyxl) (2.0.0)\n"
     ]
    },
    {
     "name": "stderr",
     "output_type": "stream",
     "text": [
      "WARNING: You are using pip version 21.2.4; however, version 25.1.1 is available.\n",
      "You should consider upgrading via the '/Library/Developer/CommandLineTools/usr/bin/python3 -m pip install --upgrade pip' command.\n"
     ]
    },
    {
     "name": "stdout",
     "output_type": "stream",
     "text": [
      "Installing xlrd...\n",
      "Defaulting to user installation because normal site-packages is not writeable\n",
      "Requirement already satisfied: xlrd in /Users/shuntaroinoue/Library/Python/3.9/lib/python/site-packages (2.0.2)\n"
     ]
    },
    {
     "name": "stderr",
     "output_type": "stream",
     "text": [
      "WARNING: You are using pip version 21.2.4; however, version 25.1.1 is available.\n",
      "You should consider upgrading via the '/Library/Developer/CommandLineTools/usr/bin/python3 -m pip install --upgrade pip' command.\n"
     ]
    },
    {
     "name": "stdout",
     "output_type": "stream",
     "text": [
      "All packages installed successfully!\n"
     ]
    }
   ],
   "source": [
    "# Install commonly used data analysis packages\n",
    "import subprocess\n",
    "import sys\n",
    "import pandas as pd\n",
    "\n",
    "import pandas as pd\n",
    "import numpy as np\n",
    "import math\n",
    "import sympy as sp\n",
    "from sympy import I\n",
    "from sympy import *\n",
    "from sympy import re as real\n",
    "import random\n",
    "\n",
    "\n",
    "packages = ['pandas', 'matplotlib', 'numpy', 'scipy', 'openpyxl', 'xlrd']\n",
    "for package in packages:\n",
    "    print(f\"Installing {package}...\")\n",
    "    subprocess.check_call([sys.executable, \"-m\", \"pip\", \"install\", package])\n",
    "print(\"All packages installed successfully!\")\n",
    "\n",
    "# Set default matplotlib plot parameters\n",
    "import matplotlib.pyplot as plt\n",
    "import matplotlib\n",
    "plt.style.reload_library()\n",
    "matplotlib.rcParams.update({\n",
    "    'font.size': 7,\n",
    "    'font.family': 'STIXGeneral',\n",
    "    'mathtext.fontset': 'stix'\n",
    "})\n",
    "\n",
    "# Plot formatting parameters\n",
    "fig_width = 4  # cm\n",
    "fig_height = 3  # cm\n",
    "font_size = 7  # pt\n",
    "marker_size = 5\n",
    "x_tick_pad = 2\n",
    "y_tick_pad = 2\n",
    "x_label_pad = 0.5\n",
    "y_label_pad = 1\n",
    "resolution = 300\n",
    "\n",
    "# Load data from Excel file\n",
    "df = pd.read_excel('MagneticParameters.xlsx')\n",
    "pi = math.pi\n",
    "Vdc = 400\n",
    "Vbat = 400\n",
    "L1_x0y0 = 24.42*10**(-6)\n",
    "Lr_x0y0 = 22.02*10**(-6)\n",
    "k_x0y0 = df.loc[2, 'k_x0_y0']#0.223015 # center of the operation point\n",
    "k_lim = df.loc[2, 'k_lim']\n",
    "Lf = 5.31*10**(-6) #H\n",
    "Cf = 0.66*10**(-6) #F\n",
    "f = 85*(10**3) #Hz\n",
    "QL = 400\n",
    "QC = 500\n",
    "omega0 = 2*pi*f #[rad/s]\n",
    "Pout=50000 #W"
   ]
  },
  {
   "cell_type": "markdown",
   "metadata": {},
   "source": [
    "# Cell 2: Load constants, parameters, and compute losses and efficiency"
   ]
  },
  {
   "cell_type": "code",
   "execution_count": 2,
   "metadata": {
    "colab": {
     "base_uri": "https://localhost:8080/",
     "height": 669
    },
    "executionInfo": {
     "elapsed": 269,
     "status": "ok",
     "timestamp": 1749626075152,
     "user": {
      "displayName": "S. I.",
      "userId": "04776806853439564799"
     },
     "user_tz": -540
    },
    "id": "YzgvzbRfYpc4",
    "outputId": "6c5b3efe-8f27-4886-8c4a-91b4ae215759"
   },
   "outputs": [],
   "source": [
    "\n",
    "\n",
    "pi = math.pi\n",
    "c1 = 1.1917956269876\n",
    "c2 = 3.10271352331286\n",
    "Req2 = omega0*Vbat*L1_x0y0**0.5*Lr_x0y0*c1*abs(k_lim**2-k_x0y0**2)/(k_x0y0*(Lr_x0y0*Vdc**2-L1_x0y0*Vbat**2*k_x0y0**2*c2**2*c1**2)**0.5) \n",
    "c3 = 8*Lr_x0y0*Vdc**2*k_x0y0**2*Req2/(math.pi**2*Pout*L1_x0y0*c1**2*(omega0**2*Lr_x0y0**2*(k_lim**2-k_x0y0**2)**2 + Req2**2*k_x0y0**4*c2**2)) \n",
    "Req = omega0*c1*c3*Vbat*L1_x0y0**0.5*Lr_x0y0*(k_lim**2-k_x0y0**2)/(k_x0y0*(Lr_x0y0*Vdc**2-L1_x0y0*Vbat**2*k_x0y0**2*c1**2*c2**2)**0.5) \n",
    "I1a_k_x0y0 = (4*Vdc*k_x0y0**2*(Lr_x0y0**2*c3**2*omega0**2+Req**2*c2**2)**0.5/(pi*omega0*L1_x0y0*k_lim**2*c1**2*c2*c3*(Lr_x0y0**2*c3**2*omega0**2*(k_lim**2-k_x0y0**2)**2+Req**2*k_x0y0**4*c2**2)**0.5))/math.sqrt(2) \n",
    "I1b_k_x0y0 = (4*Lr_x0y0*Vdc/(pi*L1_x0y0*c1*c2*(Lr_x0y0**2*c3**2*omega0**2*(k_lim**2-k_x0y0**2)**2+Req**2*k_x0y0**4*c2**2)**0.5))/math.sqrt(2) \n",
    "I1b_0  = (4*Lr_x0y0*Vdc/(pi*L1_x0y0*c1*c2*(Lr_x0y0**2*c3**2*omega0**2*(k_lim**2)**2+Req**2*0**4*c2**2)**0.5))/math.sqrt(2) \n",
    "I2a_k_x0y0 = (4*k_x0y0*Vdc*Lr_x0y0**0.5/(pi*L1_x0y0**0.5*c1*(Lr_x0y0**2*c3**2*omega0**2*(k_lim**2-k_x0y0**2)**2+Req**2*k_x0y0**4*c2**2)**0.5))/math.sqrt(2) \n",
    "I2b_k_x0y0 = (4*Vdc*k_x0y0*(Lr_x0y0**2*c3**2*omega0**2+Req**2*c2**2)**0.5/(pi*omega0*(L1_x0y0*Lr_x0y0)**0.5*c1*(Lr_x0y0**2*c3**2*omega0**2*(k_lim**2-k_x0y0**2)**2+Req**2*k_x0y0**4*c2**2)**0.5))/math.sqrt(2) \n",
    "delta_I1b = abs(I1b_k_x0y0/I1b_0) \n",
    "\n",
    "VL1 = abs(I1b_k_x0y0*(omega0*L1_x0y0))  # Vrms\n",
    "VL2 = abs(-I2b_k_x0y0*omega0*Lr_x0y0)  #Vrms\n",
    "\n",
    "C1sa = 1/(omega0**2*L1_x0y0*k_lim**2*c2*c3*c1*(c1-1)) \n",
    "C1sb = 1/(omega0**2*L1_x0y0*(1-k_lim**2*c1*c2*c3)) \n",
    "C1pa = 1/(L1_x0y0*k_lim**2*c1*c2*c3*omega0**2) \n",
    "C2pa = c2/(Lr_x0y0*omega0**2) \n",
    "C2sb = c2/(Lr_x0y0*omega0**2*(c2-1)) \n",
    "C2sa = c2/(Lr_x0y0*omega0**2*(c3-1)) \n",
    "\n",
    "rL1 = omega0*L1_x0y0/QL \n",
    "rC1sa = 1/(omega0*C1sa*QC) \n",
    "rC1pa = 1/(omega0*C1pa*QC) \n",
    "rC1sb = 1/(omega0*C1sb*QC) \n",
    "rL2 = omega0*Lr_x0y0/QL \n",
    "rC2sa = 1/(omega0*C2sa*QC) \n",
    "rC2pa = 1/(omega0*C2pa*QC) \n",
    "rC2sb = 1/(omega0*C2sb*QC) \n",
    "rLf = omega0*Lf/QL \n",
    "rCf = 1/(omega0*Cf*QC) \n",
    "\n",
    "Loss_L1 = abs(rL1*I1b_k_x0y0**2) \n",
    "Loss_L1_0 = rL1*I1b_0**2 \n",
    "Loss_C1sa = abs(rC1sa*I1a_k_x0y0**2) \n",
    "Loss_C1pa = abs(rC1pa*I1b_k_x0y0**2) \n",
    "Loss_C1pa_0 = rC1pa*I1b_0**2 \n",
    "Loss_C1sb = abs(rC1sb*I1b_k_x0y0**2) \n",
    "Loss_C1sb_0 = rC1sb*I1b_0**2 \n",
    "Loss_L2 = abs(rL2*I2b_k_x0y0**2) \n",
    "Loss_C2sb = abs(rC2sb*I2b_k_x0y0**2) \n",
    "Loss_C2pa = abs(rC2pa*I2b_k_x0y0**2) \n",
    "Loss_C2sa = abs(rC2sa*I2a_k_x0y0**2) \n",
    "Loss_Lf = abs(rLf*I1a_k_x0y0**2) \n",
    "Loss_Cf = abs(rCf*I1a_k_x0y0**2) \n",
    "\n",
    "rSW = 3.7*10**(-3)*2 # Datasheet of CAS325M12HM2\n",
    "Vforward = 1.6*2 #Datasheet of CAS325M12HM2\n",
    "Loss_SW = abs(rSW*I1a_k_x0y0**2) \n",
    "Loss_Vforward = abs(Vforward*I2a_k_x0y0) \n",
    "\n",
    "Loss_Snubber = 10 + 5 # W\n",
    "Loss_Snubber_iteration = Loss_Snubber \n",
    "\n",
    "Loss_single_total = Loss_L1+Loss_C1sa+Loss_C1sb+Loss_C1pa+Loss_L2+Loss_C2sb+Loss_C2sa+Loss_C2pa+Loss_SW+Loss_Vforward+Loss_Lf+Loss_Cf+Loss_Snubber\n",
    "                     \n",
    "Loss_four_total = Loss_L1+Loss_L1_0*3+Loss_C1sa+Loss_C1sb+Loss_C1sb_0*3+Loss_C1pa+Loss_C1pa_0*3+Loss_L2+Loss_C2sb+Loss_C2sa+Loss_C2pa+Loss_SW+Loss_Vforward+Loss_Lf+Loss_Cf+Loss_Snubber \n",
    "Loss_coil =  Loss_L1+Loss_L2 \n",
    "eff_four = (Pout/(Pout + abs(Loss_four_total)))*100 \n",
    "eff_single = (Pout/(Pout + abs(Loss_single_total)))*100 \n",
    "eff_coil = (Pout/(Pout + abs(Loss_coil)))*100 \n",
    "Pout_k_x0y0 = abs(Req*I2a_k_x0y0**2) \n"
   ]
  },
  {
   "cell_type": "markdown",
   "metadata": {},
   "source": [
    "# Cell 3: Visualize the loss distribution with a pie chart"
   ]
  },
  {
   "cell_type": "code",
   "execution_count": 3,
   "metadata": {},
   "outputs": [
    {
     "data": {
      "image/png": "[encoded data removed]",
      "text/plain": [
       "<Figure size 600x600 with 1 Axes>"
      ]
     },
     "metadata": {},
     "output_type": "display_data"
    }
   ],
   "source": [
    "# Cell 3\n",
    "import matplotlib.pyplot as plt\n",
    "\n",
    "losses_ordered = {\n",
    "    \"L1\": Loss_L1,\n",
    "    \"C1s, C1p, C1add\": Loss_C1sa + Loss_C1sb + Loss_C1pa,\n",
    "    \"L2, L3, L4\": Loss_L1_0*3,\n",
    "    \"C2s, C2p, C2add,\\nC3s, C3p, C3add,\\nC4s, C4p, C4add\":   (Loss_C1sb_0 + Loss_C1pa_0)*3,\n",
    "    \"Lf, Cf\": Loss_Lf + Loss_Cf,\n",
    "    \"Lr\": Loss_L2,  # placeholder to simulate 20%\n",
    "    \"Crs, Crp, Cradd\": Loss_C2sb + Loss_C2pa + Loss_C2sa,  # placeholder to simulate 16%\n",
    "    \"Inverter\": Loss_SW,\n",
    "    \"Diode rectifier & snubber\": Loss_Vforward + Loss_Snubber\n",
    "}\n",
    "\n",
    "labels = list(losses_ordered.keys())\n",
    "sizes = list(losses_ordered.values())\n",
    "total_loss = sum(sizes)\n",
    "\n",
    "colors = [\n",
    "    \"#c6d9f1\",  # L1\n",
    "    \"#a2c4c9\",  # C1 group\n",
    "    \"#d9ead3\",  # L2 group\n",
    "    \"#b6d7a8\",  # C2~C4 group\n",
    "    \"#b4a7d6\",  # Lf, Cf\n",
    "    \"#f9cb9c\",  # Lr\n",
    "    \"#f4b183\",  # Crs, Crp, Cradd\n",
    "    \"#bfbfbf\",  # Inverter\n",
    "    \"#7f7f7f\"   # Diode + Snubber\n",
    "]\n",
    "\n",
    "fig, ax = plt.subplots(figsize=(6, 6))\n",
    "wedges, texts, autotexts = ax.pie(\n",
    "    sizes,\n",
    "    labels=labels,\n",
    "    autopct='%1.0f%%',\n",
    "    startangle=90,\n",
    "    colors=colors,\n",
    "    counterclock=False,\n",
    "    wedgeprops={'edgecolor': 'white'},\n",
    "    textprops={'fontsize': 10}\n",
    ")\n",
    "\n",
    "ax.text(0, 0.10, \"Total loss:\", ha='center', va='center', fontsize=12, weight='bold')\n",
    "ax.text(0, 0.00, f\"{int(total_loss)} W\", ha='center', va='center', fontsize=12, weight='bold')\n",
    "ax.text(0, -0.12, f\"Efficiency: {eff_four:.1f}%\", ha='center', va='center', fontsize=12, weight='bold')\n",
    "\n",
    "ax.axis('equal')\n",
    "plt.title(\" Proposed reflexive tuning\", fontsize=12)\n",
    "plt.tight_layout()\n",
    "plt.show()"
   ]
  },
  {
   "cell_type": "code",
   "execution_count": 4,
   "metadata": {},
   "outputs": [
    {
     "name": "stdout",
     "output_type": "stream",
     "text": [
      "Loss breakdown data has been saved to 'LossBreakdown_Reflexive.xlsx'. You can now create a pie chart in Excel using this data.\n"
     ]
    }
   ],
   "source": [
    "import pandas as pd\n",
    "\n",
    "# Create DataFrame from the ordered loss dictionary (used in Cell 3)\n",
    "df_losses = pd.DataFrame({\n",
    "    'Loss Item': list(losses_ordered.keys()),\n",
    "    'Loss [W]': list(losses_ordered.values())\n",
    "})\n",
    "\n",
    "# Save to Excel\n",
    "output_file = 'LossBreakdown_Reflexive.xlsx'\n",
    "df_losses.to_excel(output_file, index=False)\n",
    "\n",
    "print(f\"Loss breakdown data has been saved to '{output_file}'. You can now create a pie chart in Excel using this data.\")\n"
   ]
  }
 ],
 "metadata": {
  "colab": {
   "machine_shape": "hm",
   "provenance": []
  },
  "gpuClass": "standard",
  "kernelspec": {
   "display_name": "Python 3",
   "name": "python3"
  },
  "language_info": {
   "codemirror_mode": {
    "name": "ipython",
    "version": 3
   },
   "file_extension": ".py",
   "mimetype": "text/x-python",
   "name": "python",
   "nbconvert_exporter": "python",
   "pygments_lexer": "ipython3",
   "version": "3.9.6"
  }
 },
 "nbformat": 4,
 "nbformat_minor": 0
}
