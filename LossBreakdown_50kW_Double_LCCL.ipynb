{
 "cells": [
  {
   "cell_type": "markdown",
   "metadata": {},
   "source": [
    "# Cell 1: Install packages and set up plotting environment"
   ]
  },
  {
   "cell_type": "code",
   "execution_count": 1,
   "metadata": {},
   "outputs": [
    {
     "name": "stdout",
     "output_type": "stream",
     "text": [
      "Installing pandas...\n",
      "Defaulting to user installation because normal site-packages is not writeable\n",
      "Requirement already satisfied: pandas in /Users/shuntaroinoue/Library/Python/3.9/lib/python/site-packages (2.3.0)\n",
      "Requirement already satisfied: pytz>=2020.1 in /Users/shuntaroinoue/Library/Python/3.9/lib/python/site-packages (from pandas) (2025.2)\n",
      "Requirement already satisfied: tzdata>=2022.7 in /Users/shuntaroinoue/Library/Python/3.9/lib/python/site-packages (from pandas) (2025.2)\n",
      "Requirement already satisfied: numpy>=1.22.4 in /Users/shuntaroinoue/Library/Python/3.9/lib/python/site-packages (from pandas) (2.0.2)\n",
      "Requirement already satisfied: python-dateutil>=2.8.2 in /Users/shuntaroinoue/Library/Python/3.9/lib/python/site-packages (from pandas) (2.9.0.post0)\n",
      "Requirement already satisfied: six>=1.5 in /Library/Developer/CommandLineTools/Library/Frameworks/Python3.framework/Versions/3.9/lib/python3.9/site-packages (from python-dateutil>=2.8.2->pandas) (1.15.0)\n"
     ]
    },
    {
     "name": "stderr",
     "output_type": "stream",
     "text": [
      "WARNING: You are using pip version 21.2.4; however, version 25.1.1 is available.\n",
      "You should consider upgrading via the '/Library/Developer/CommandLineTools/usr/bin/python3 -m pip install --upgrade pip' command.\n"
     ]
    },
    {
     "name": "stdout",
     "output_type": "stream",
     "text": [
      "Installing matplotlib...\n",
      "Defaulting to user installation because normal site-packages is not writeable\n",
      "Requirement already satisfied: matplotlib in /Users/shuntaroinoue/Library/Python/3.9/lib/python/site-packages (3.9.4)\n",
      "Requirement already satisfied: python-dateutil>=2.7 in /Users/shuntaroinoue/Library/Python/3.9/lib/python/site-packages (from matplotlib) (2.9.0.post0)\n",
      "Requirement already satisfied: pillow>=8 in /Users/shuntaroinoue/Library/Python/3.9/lib/python/site-packages (from matplotlib) (11.2.1)\n",
      "Requirement already satisfied: packaging>=20.0 in /Users/shuntaroinoue/Library/Python/3.9/lib/python/site-packages (from matplotlib) (25.0)\n",
      "Requirement already satisfied: fonttools>=4.22.0 in /Users/shuntaroinoue/Library/Python/3.9/lib/python/site-packages (from matplotlib) (4.58.4)\n",
      "Requirement already satisfied: contourpy>=1.0.1 in /Users/shuntaroinoue/Library/Python/3.9/lib/python/site-packages (from matplotlib) (1.3.0)\n",
      "Requirement already satisfied: numpy>=1.23 in /Users/shuntaroinoue/Library/Python/3.9/lib/python/site-packages (from matplotlib) (2.0.2)\n",
      "Requirement already satisfied: kiwisolver>=1.3.1 in /Users/shuntaroinoue/Library/Python/3.9/lib/python/site-packages (from matplotlib) (1.4.7)\n",
      "Requirement already satisfied: pyparsing>=2.3.1 in /Users/shuntaroinoue/Library/Python/3.9/lib/python/site-packages (from matplotlib) (3.2.3)\n",
      "Requirement already satisfied: importlib-resources>=3.2.0 in /Users/shuntaroinoue/Library/Python/3.9/lib/python/site-packages (from matplotlib) (6.5.2)\n",
      "Requirement already satisfied: cycler>=0.10 in /Users/shuntaroinoue/Library/Python/3.9/lib/python/site-packages (from matplotlib) (0.12.1)\n",
      "Requirement already satisfied: zipp>=3.1.0 in /Users/shuntaroinoue/Library/Python/3.9/lib/python/site-packages (from importlib-resources>=3.2.0->matplotlib) (3.23.0)\n",
      "Requirement already satisfied: six>=1.5 in /Library/Developer/CommandLineTools/Library/Frameworks/Python3.framework/Versions/3.9/lib/python3.9/site-packages (from python-dateutil>=2.7->matplotlib) (1.15.0)\n"
     ]
    },
    {
     "name": "stderr",
     "output_type": "stream",
     "text": [
      "WARNING: You are using pip version 21.2.4; however, version 25.1.1 is available.\n",
      "You should consider upgrading via the '/Library/Developer/CommandLineTools/usr/bin/python3 -m pip install --upgrade pip' command.\n"
     ]
    },
    {
     "name": "stdout",
     "output_type": "stream",
     "text": [
      "Installing numpy...\n",
      "Defaulting to user installation because normal site-packages is not writeable\n",
      "Requirement already satisfied: numpy in /Users/shuntaroinoue/Library/Python/3.9/lib/python/site-packages (2.0.2)\n"
     ]
    },
    {
     "name": "stderr",
     "output_type": "stream",
     "text": [
      "WARNING: You are using pip version 21.2.4; however, version 25.1.1 is available.\n",
      "You should consider upgrading via the '/Library/Developer/CommandLineTools/usr/bin/python3 -m pip install --upgrade pip' command.\n"
     ]
    },
    {
     "name": "stdout",
     "output_type": "stream",
     "text": [
      "Installing scipy...\n",
      "Defaulting to user installation because normal site-packages is not writeable\n",
      "Requirement already satisfied: scipy in /Users/shuntaroinoue/Library/Python/3.9/lib/python/site-packages (1.13.1)\n",
      "Requirement already satisfied: numpy<2.3,>=1.22.4 in /Users/shuntaroinoue/Library/Python/3.9/lib/python/site-packages (from scipy) (2.0.2)\n"
     ]
    },
    {
     "name": "stderr",
     "output_type": "stream",
     "text": [
      "WARNING: You are using pip version 21.2.4; however, version 25.1.1 is available.\n",
      "You should consider upgrading via the '/Library/Developer/CommandLineTools/usr/bin/python3 -m pip install --upgrade pip' command.\n"
     ]
    },
    {
     "name": "stdout",
     "output_type": "stream",
     "text": [
      "Installing openpyxl...\n",
      "Defaulting to user installation because normal site-packages is not writeable\n",
      "Requirement already satisfied: openpyxl in /Users/shuntaroinoue/Library/Python/3.9/lib/python/site-packages (3.1.5)\n",
      "Requirement already satisfied: et-xmlfile in /Users/shuntaroinoue/Library/Python/3.9/lib/python/site-packages (from openpyxl) (2.0.0)\n"
     ]
    },
    {
     "name": "stderr",
     "output_type": "stream",
     "text": [
      "WARNING: You are using pip version 21.2.4; however, version 25.1.1 is available.\n",
      "You should consider upgrading via the '/Library/Developer/CommandLineTools/usr/bin/python3 -m pip install --upgrade pip' command.\n"
     ]
    },
    {
     "name": "stdout",
     "output_type": "stream",
     "text": [
      "Installing xlrd...\n",
      "Defaulting to user installation because normal site-packages is not writeable\n",
      "Requirement already satisfied: xlrd in /Users/shuntaroinoue/Library/Python/3.9/lib/python/site-packages (2.0.2)\n"
     ]
    },
    {
     "name": "stderr",
     "output_type": "stream",
     "text": [
      "WARNING: You are using pip version 21.2.4; however, version 25.1.1 is available.\n",
      "You should consider upgrading via the '/Library/Developer/CommandLineTools/usr/bin/python3 -m pip install --upgrade pip' command.\n"
     ]
    },
    {
     "name": "stdout",
     "output_type": "stream",
     "text": [
      "All packages installed successfully!\n"
     ]
    }
   ],
   "source": [
    "# Install frequently used data analysis packages\n",
    "import subprocess\n",
    "import sys\n",
    "\n",
    "packages = ['pandas', 'matplotlib', 'numpy', 'scipy', 'openpyxl', 'xlrd']\n",
    "for package in packages:\n",
    "    print(f\"Installing {package}...\")\n",
    "    subprocess.check_call([sys.executable, \"-m\", \"pip\", \"install\", package])\n",
    "print(\"All packages installed successfully!\")\n",
    "\n",
    "# Load data from Excel file\n",
    "import pandas as pd\n",
    "df = pd.read_excel('MagneticParameters.xlsx')\n",
    "\n",
    "# Set matplotlib plot parameters\n",
    "import matplotlib.pyplot as plt\n",
    "import matplotlib\n",
    "from matplotlib import rc\n",
    "import numpy as np\n",
    "\n",
    "plt.style.reload_library()\n",
    "matplotlib.rcParams.update({\n",
    "    'font.size': 7, \n",
    "    'font.family': 'STIXGeneral', \n",
    "    'mathtext.fontset': 'stix'\n",
    "})\n",
    "\n",
    "# Plot appearance settings\n",
    "fig_width = 4       # [cm]\n",
    "fig_height = 3      # [cm]\n",
    "font_size = 7       # [pt]\n",
    "marker_size = 5\n",
    "x_tick_pad = 2\n",
    "y_tick_pad = 2\n",
    "x_label_pad = 0.5\n",
    "y_label_pad = 1\n",
    "resolution = 300"
   ]
  },
  {
   "cell_type": "markdown",
   "metadata": {},
   "source": [
    "# Cell 2: Loss calculation and efficiency estimation"
   ]
  },
  {
   "cell_type": "code",
   "execution_count": 2,
   "metadata": {},
   "outputs": [],
   "source": [
    "import math\n",
    "\n",
    "# Basic parameters\n",
    "f = 85e3                 # Frequency [Hz]\n",
    "w = 2 * math.pi * f      # Angular frequency [rad/s]\n",
    "Pout = 50000             # Output power [W]\n",
    "Vdc = 400                # DC link voltage [V]\n",
    "Vbat = 400               # Battery voltage [V]\n",
    "\n",
    "# Extract parameters from Excel\n",
    "Np = df.loc[0, 'N1[turn]']\n",
    "Ns = df.loc[0, 'Nr[turn]']\n",
    "L1 = df.loc[0, 'L1[H]']\n",
    "Lr = df.loc[0, 'Lr[H]']\n",
    "k_x0y0 = df.loc[0, 'k_x0_y0']\n",
    "I1 = df.loc[0, 'I1[A(rms)]'] # Primary current [A, rms]\n",
    "\n",
    "# Resonant design parameters\n",
    "c1 = math.pi * w * L1 * I1 * math.sqrt(2) / (4 * Vdc) # Note that I1 is rms value. c1 = C1pa/C1sb + 1\n",
    "c2 = (math.pi**2 * w * math.sqrt(L1 * Lr) * Pout) / (8 * k_x0y0 * c1 * Vdc * Vbat) # c2 = Crpa/C1sb + 1 \n",
    "\n",
    "# RMS current values\n",
    "I1a = (4 * c1 * c2 * Vbat * k_x0y0) / (math.pi * w * math.sqrt(L1) * math.sqrt(Lr)) / math.sqrt(2)\n",
    "I1b = (4 * c1 * Vdc) / (math.pi * w * L1) / math.sqrt(2)\n",
    "Ira = (4 * c1 * c2 * Vdc * k_x0y0) / (math.pi * w * math.sqrt(L1) * math.sqrt(Lr)) / math.sqrt(2)\n",
    "Irb = (4 * c2 * Vbat) / (math.pi * w * Lr) / math.sqrt(2)\n",
    "\n",
    "# Voltage across coils (rms)\n",
    "VL1 = math.sqrt((4 * math.sqrt(L1) * Vbat * k_x0y0 * c2 / (math.pi * math.sqrt(Lr)))**2 + (4 * Vdc * c1 / math.pi)**2) / math.sqrt(2)\n",
    "VLr = math.sqrt((4 * math.sqrt(Lr) * Vdc * k_x0y0 * c1 / (math.pi * math.sqrt(L1)))**2 + (4 * Vbat * c2 / math.pi)**2) / math.sqrt(2)\n",
    "\n",
    "# Quality factors\n",
    "QL = 400\n",
    "QC = 500\n",
    "\n",
    "# Filter components\n",
    "Lf = 5.31e-6    # [H]\n",
    "Cf = 0.66e-6    # [F]\n",
    "\n",
    "# Resonant components (resonant inductors and capacitors)\n",
    "L1sa = L1 / c1\n",
    "C1sb = c1 / (w**2 * L1 * (c1 - 1))\n",
    "C1pa = c1 / (L1 * w**2)\n",
    "Crpa = c2 / (Lr * w**2)\n",
    "Crsb = c2 / (Lr * w**2 * (c2 - 1))\n",
    "Lrsa = Lr / c2\n",
    "\n",
    "# Equivalent resistances\n",
    "def r_L(L, Q): return w * L / Q\n",
    "def r_C(C, Q): return 1 / (w * C * Q)\n",
    "\n",
    "rLf = r_L(Lf, QL)\n",
    "rCf = r_C(Cf, QC)\n",
    "rL1 = r_L(L1, QL)\n",
    "rL1sa = r_L(L1sa, QL)\n",
    "rC1pa = r_C(C1pa, QC)\n",
    "rC1sb = r_C(C1sb, QC)\n",
    "rLr = r_L(Lr, QL)\n",
    "rLrsa = r_L(Lrsa, QL)\n",
    "rCrpa = r_C(Crpa, QC)\n",
    "rCrsb = r_C(Crsb, QC)\n",
    "\n",
    "# Loss calculations\n",
    "Loss_Lf = rLf * I1a**2\n",
    "Loss_Cf = rCf * I1a**2\n",
    "Loss_Filter = Loss_Lf + Loss_Cf\n",
    "\n",
    "Loss_L1 = rL1 * I1b**2\n",
    "Loss_L1sa = rL1sa * I1a**2\n",
    "Loss_C1pa = rC1pa * (I1a + I1b)**2\n",
    "Loss_C1sb = rC1sb * I1b**2\n",
    "\n",
    "# Reuse same losses for 4-transmitter system\n",
    "Loss_L2 = Loss_L3 = Loss_L4 = Loss_L1\n",
    "Loss_L2sa = Loss_L3sa = Loss_L4sa = 0\n",
    "Loss_C2pa = Loss_C3pa = Loss_C4pa = rC1pa * I1b**2\n",
    "Loss_C2sb = Loss_C3sb = Loss_C4sb = rC1sb * I1b**2\n",
    "\n",
    "Loss_Lr = rLr * Irb**2\n",
    "Loss_Crsb = rCrsb * Irb**2\n",
    "Loss_Crpa = rCrpa * Irb**2\n",
    "Loss_Lrsa = rLrsa * Ira**2\n",
    "\n",
    "# Inverter and diode losses\n",
    "Rsw = 3.7e-3 * 2       # Switch resistance (from datasheet for CAS325M12HM2)\n",
    "Vforward = 1.6 * 2     # Diode forward drop (from datasheet for CAS325M12HM2)\n",
    "Loss_Inverter = Rsw * I1a**2\n",
    "Loss_Diode = Vforward * Ira\n",
    "\n",
    "# Total losses and efficiency\n",
    "Loss_single_total = Loss_L1 + Loss_L1sa + Loss_C1sb + Loss_C1pa + Loss_Lr + Loss_Crsb + Loss_Lrsa + Loss_Crpa + Loss_Inverter + Loss_Diode + Loss_Filter\n",
    "Loss_four_total = (Loss_L1 + Loss_L2 + Loss_L3 + Loss_L4 +\n",
    "                   Loss_L1sa + Loss_L2sa + Loss_L3sa + Loss_L4sa +\n",
    "                   Loss_C1sb + Loss_C2sb + Loss_C3sb + Loss_C4sb +\n",
    "                   Loss_C1pa + Loss_C2pa + Loss_C3pa + Loss_C4pa +\n",
    "                   Loss_Lr + Loss_Crsb + Loss_Lrsa + Loss_Crpa +\n",
    "                   Loss_Inverter + Loss_Diode + Loss_Filter)\n",
    "\n",
    "Loss_coil = Loss_L1 + Loss_Lr\n",
    "\n",
    "eff_single = (Pout/(Pout + abs(Loss_single_total)))*100 \n",
    "eff_four = (Pout/(Pout + abs(Loss_four_total)))*100 \n",
    "eff_coil = (Pout/(Pout + abs(Loss_coil)))*100 \n"
   ]
  },
  {
   "cell_type": "markdown",
   "metadata": {},
   "source": [
    "# Cell 3: Plot loss breakdown (pie chart)"
   ]
  },
  {
   "cell_type": "code",
   "execution_count": 3,
   "metadata": {},
   "outputs": [
    {
     "data": {
      "image/png": "[encoded data removed]",
      "text/plain": [
       "<Figure size 600x600 with 1 Axes>"
      ]
     },
     "metadata": {},
     "output_type": "display_data"
    }
   ],
   "source": [
    "import matplotlib.pyplot as plt\n",
    "\n",
    "# Losses in the order in the paper\n",
    "losses_ordered = {\n",
    "    \"L1\": Loss_L1,\n",
    "    \"C1s, C1p, L1s\": Loss_C1sb + Loss_C1pa + Loss_L1sa,\n",
    "    \"L2, L3, L4\": Loss_L2 + Loss_L3 + Loss_L4,\n",
    "    \"C2s, C2p, L2s,\\nC3s, C3p, L3s,\\nC4s, C4p, L4s\":\n",
    "        Loss_C2sb + Loss_C2pa + Loss_L2sa +\n",
    "        Loss_C3sb + Loss_C3pa + Loss_L3sa +\n",
    "        Loss_C4sb + Loss_C4pa + Loss_L4sa,\n",
    "    \"Lf, Cf\": Loss_Filter,\n",
    "    \"Lr\": Loss_Lr,\n",
    "    \"Crs, Crp, Lrs\": Loss_Crsb + Loss_Crpa + Loss_Lrsa,\n",
    "    \"Inverter\": Loss_Inverter,\n",
    "    \"Diode rectifier\": Loss_Diode\n",
    "}\n",
    "\n",
    "labels = list(losses_ordered.keys())\n",
    "sizes = list(losses_ordered.values())\n",
    "total_loss = sum(sizes)\n",
    "efficiency = eff_four  # (%)\n",
    "\n",
    "# Color mapping (matched to the paper)\n",
    "colors = [\n",
    "    \"#c6d9f1\",  # L1 (light blue)\n",
    "    \"#a2c4c9\",  # C1s, C1p, L1s (blue-gray)\n",
    "    \"#d9ead3\",  # L2, L3, L4 (light green)\n",
    "    \"#b6d7a8\",  # C2s~C4s (green)\n",
    "    \"#b4a7d6\",  # Lf, Cf (violet)\n",
    "    \"#f9cb9c\",  # Lr (orange)\n",
    "    \"#f4b183\",  # Crs, Crp, Lrs (orange-brown)\n",
    "    \"#bfbfbf\",  # Inverter (light gray)\n",
    "    \"#7f7f7f\"   # Diode rectifier (dark gray)\n",
    "]\n",
    "\n",
    "# Plot\n",
    "fig, ax = plt.subplots(figsize=(6, 6))\n",
    "wedges, texts, autotexts = ax.pie(\n",
    "    sizes,\n",
    "    labels=labels,\n",
    "    autopct='%1.0f%%',\n",
    "    startangle=90,\n",
    "    colors=colors,\n",
    "    counterclock=False,\n",
    "    wedgeprops={'edgecolor': 'white'},\n",
    "    textprops={'fontsize': 10}\n",
    ")\n",
    "\n",
    "# Center annotations\n",
    "ax.text(0, 0.10, \"Total loss:\", ha='center', va='center', fontsize=12, weight='bold')\n",
    "ax.text(0, 0.00, f\"{int(total_loss)} W\", ha='center', va='center', fontsize=12, weight='bold')\n",
    "ax.text(0, -0.12, f\"Efficiency: {efficiency:.1f}%\", ha='center', va='center', fontsize=12, weight='bold')\n",
    "\n",
    "ax.axis('equal')\n",
    "plt.title(\"Double-sided LCCL\", fontsize=12)\n",
    "plt.tight_layout()\n",
    "plt.show()\n"
   ]
  },
  {
   "cell_type": "markdown",
   "metadata": {},
   "source": [
    "# Cell 4: Export loss breakdown data to Excel for pie chart"
   ]
  },
  {
   "cell_type": "code",
   "execution_count": 4,
   "metadata": {},
   "outputs": [
    {
     "name": "stdout",
     "output_type": "stream",
     "text": [
      "Loss breakdown data has been saved to 'LossBreakdown_LCCL.xlsx'. You can now create a pie chart in Excel using this data.\n"
     ]
    }
   ],
   "source": [
    "import pandas as pd\n",
    "\n",
    "# Create DataFrame from the ordered loss dictionary (used in Cell 3)\n",
    "df_losses = pd.DataFrame({\n",
    "    'Loss Item': list(losses_ordered.keys()),\n",
    "    'Loss [W]': list(losses_ordered.values())\n",
    "})\n",
    "\n",
    "# Save to Excel\n",
    "output_file = 'LossBreakdown_LCCL.xlsx'\n",
    "df_losses.to_excel(output_file, index=False)\n",
    "\n",
    "print(f\"Loss breakdown data has been saved to '{output_file}'. You can now create a pie chart in Excel using this data.\")\n"
   ]
  }
 ],
 "metadata": {
  "accelerator": "GPU",
  "colab": {
   "machine_shape": "hm",
   "provenance": []
  },
  "gpuClass": "standard",
  "kernelspec": {
   "display_name": "Python 3",
   "name": "python3"
  },
  "language_info": {
   "codemirror_mode": {
    "name": "ipython",
    "version": 3
   },
   "file_extension": ".py",
   "mimetype": "text/x-python",
   "name": "python",
   "nbconvert_exporter": "python",
   "pygments_lexer": "ipython3",
   "version": "3.9.6"
  }
 },
 "nbformat": 4,
 "nbformat_minor": 0
}
